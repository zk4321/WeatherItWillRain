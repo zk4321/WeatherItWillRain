{
 "cells": [
  {
   "cell_type": "code",
   "execution_count": 1,
   "metadata": {},
   "outputs": [],
   "source": [
    "### Import packages\n",
    "\n",
    "## For data handling\n",
    "import pandas as pd\n",
    "import numpy as np\n",
    "\n",
    "## For plotting\n",
    "import matplotlib.pyplot as plt\n",
    "from seaborn import set_style\n",
    "\n",
    "## This sets the plot style\n",
    "## to have a grid on a white background\n",
    "set_style(\"whitegrid\")\n",
    "\n",
    "## For converting date column to datetime format\n",
    "\n",
    "from datetime import date\n",
    "from datetime import datetime"
   ]
  },
  {
   "cell_type": "markdown",
   "metadata": {},
   "source": [
    "Read in the data from .csv file."
   ]
  },
  {
   "cell_type": "code",
   "execution_count": 2,
   "metadata": {},
   "outputs": [],
   "source": [
    "borneo_rain = pd.read_csv('weather_tuanan_2003-Apr2020.csv')"
   ]
  },
  {
   "cell_type": "code",
   "execution_count": 3,
   "metadata": {
    "scrolled": true
   },
   "outputs": [
    {
     "data": {
      "text/plain": [
       "Index(['date', 'year', 'month', 'month2', 'day', 'total_rain_camp',\n",
       "       'total_rain_post', 'min_temp', 'max_temp', 'thunder', 'smoke'],\n",
       "      dtype='object')"
      ]
     },
     "execution_count": 3,
     "metadata": {},
     "output_type": "execute_result"
    }
   ],
   "source": [
    "borneo_rain.columns"
   ]
  },
  {
   "cell_type": "code",
   "execution_count": 4,
   "metadata": {
    "scrolled": true
   },
   "outputs": [
    {
     "name": "stdout",
     "output_type": "stream",
     "text": [
      "<class 'pandas.core.frame.DataFrame'>\n",
      "RangeIndex: 6424 entries, 0 to 6423\n",
      "Data columns (total 11 columns):\n",
      " #   Column           Non-Null Count  Dtype \n",
      "---  ------           --------------  ----- \n",
      " 0   date             6424 non-null   int64 \n",
      " 1   year             6424 non-null   int64 \n",
      " 2   month            6424 non-null   int64 \n",
      " 3   month2           6424 non-null   object\n",
      " 4   day              6424 non-null   int64 \n",
      " 5   total_rain_camp  6424 non-null   object\n",
      " 6   total_rain_post  6424 non-null   object\n",
      " 7   min_temp         6424 non-null   object\n",
      " 8   max_temp         6424 non-null   object\n",
      " 9   thunder          6424 non-null   object\n",
      " 10  smoke            6424 non-null   object\n",
      "dtypes: int64(4), object(7)\n",
      "memory usage: 552.2+ KB\n"
     ]
    }
   ],
   "source": [
    "borneo_rain.info()"
   ]
  },
  {
   "cell_type": "markdown",
   "metadata": {},
   "source": [
    "# Cleaning the data and adding rain_tomorrow:\n",
    "\n",
    "Start by making rain_tomorrow feature by looping through and taking nonzero total_rain_camp as 1, 'no data' as 'no data', and zero total_rain_camp as 0. Make final entry 'no data'.\n",
    "\n",
    "Next, convert date information to datetime style for conversion to_datetime(). \n",
    "\n",
    "Finally, go through each feature and drop all 'no data' rows!\n",
    "\n",
    "The cleaned data frame borneo_full_clean is all the features taken only in the rows where all the features have data. This leaves out the first several years where no total_rain_post, thunder, or smoke were recorded."
   ]
  },
  {
   "cell_type": "code",
   "execution_count": 5,
   "metadata": {},
   "outputs": [
    {
     "name": "stderr",
     "output_type": "stream",
     "text": [
      "<ipython-input-5-d2790eaf500a>:12: SettingWithCopyWarning: \n",
      "A value is trying to be set on a copy of a slice from a DataFrame\n",
      "\n",
      "See the caveats in the documentation: https://pandas.pydata.org/pandas-docs/stable/user_guide/indexing.html#returning-a-view-versus-a-copy\n",
      "  borneo_rain_copy.rain_tomorrow[i] = '0'\n",
      "<ipython-input-5-d2790eaf500a>:16: SettingWithCopyWarning: \n",
      "A value is trying to be set on a copy of a slice from a DataFrame\n",
      "\n",
      "See the caveats in the documentation: https://pandas.pydata.org/pandas-docs/stable/user_guide/indexing.html#returning-a-view-versus-a-copy\n",
      "  borneo_rain_copy.rain_tomorrow[i] = '1'\n",
      "<ipython-input-5-d2790eaf500a>:14: SettingWithCopyWarning: \n",
      "A value is trying to be set on a copy of a slice from a DataFrame\n",
      "\n",
      "See the caveats in the documentation: https://pandas.pydata.org/pandas-docs/stable/user_guide/indexing.html#returning-a-view-versus-a-copy\n",
      "  borneo_rain_copy.rain_tomorrow[i] = 'no data'\n",
      "<ipython-input-5-d2790eaf500a>:20: SettingWithCopyWarning: \n",
      "A value is trying to be set on a copy of a slice from a DataFrame\n",
      "\n",
      "See the caveats in the documentation: https://pandas.pydata.org/pandas-docs/stable/user_guide/indexing.html#returning-a-view-versus-a-copy\n",
      "  borneo_rain_copy.rain_tomorrow[len(borneo_rain_copy.index)] = 'no data'\n"
     ]
    }
   ],
   "source": [
    "borneo_rain_copy = borneo_rain.copy()\n",
    "\n",
    "## Define new column for rain_tomorrow\n",
    "\n",
    "borneo_rain_copy['rain_tomorrow'] = '0'\n",
    "\n",
    "## Loop through total_rain_camp and assign values for rain_tomorrow\n",
    "\n",
    "for i in borneo_rain_copy.index:\n",
    "    if i < len(borneo_rain_copy.index)-1:\n",
    "        if borneo_rain_copy.total_rain_camp[i+1] == '0':\n",
    "            borneo_rain_copy.rain_tomorrow[i] = '0'\n",
    "        elif borneo_rain_copy.total_rain_camp[i+1] == 'no data':\n",
    "            borneo_rain_copy.rain_tomorrow[i] = 'no data'\n",
    "        else:\n",
    "            borneo_rain_copy.rain_tomorrow[i] = '1'\n",
    "\n",
    "## Assign no data for dinal rain_tomorrow as the next day is out of the data set            \n",
    "            \n",
    "borneo_rain_copy.rain_tomorrow[len(borneo_rain_copy.index)] = 'no data'"
   ]
  },
  {
   "cell_type": "code",
   "execution_count": 6,
   "metadata": {},
   "outputs": [],
   "source": [
    "## Function which converts yyyymmdd integer date format to yyyy-mm-dd string format\n",
    "\n",
    "def inttodate(argdate: int) -> date:\n",
    "\n",
    "    year = int(argdate / 10000)\n",
    "    month = int((argdate % 10000) / 100)\n",
    "    day = int(argdate % 100)\n",
    "\n",
    "    return date(year, month, day)"
   ]
  },
  {
   "cell_type": "code",
   "execution_count": 7,
   "metadata": {},
   "outputs": [],
   "source": [
    "## Convert dates to integers\n",
    "\n",
    "borneo_rain_copy['date'] = pd.to_numeric(borneo_rain_copy['date'], downcast=\"integer\")"
   ]
  },
  {
   "cell_type": "code",
   "execution_count": 8,
   "metadata": {},
   "outputs": [
    {
     "name": "stderr",
     "output_type": "stream",
     "text": [
      "<ipython-input-8-0bb59b79891a>:4: SettingWithCopyWarning: \n",
      "A value is trying to be set on a copy of a slice from a DataFrame\n",
      "\n",
      "See the caveats in the documentation: https://pandas.pydata.org/pandas-docs/stable/user_guide/indexing.html#returning-a-view-versus-a-copy\n",
      "  borneo_rain_copy.date[i] = inttodate(borneo_rain_copy.date[i])\n"
     ]
    }
   ],
   "source": [
    "## Convert date integers to datetime objects\n",
    "\n",
    "for i in borneo_rain_copy.index:\n",
    "    borneo_rain_copy.date[i] = inttodate(borneo_rain_copy.date[i])"
   ]
  },
  {
   "cell_type": "code",
   "execution_count": 9,
   "metadata": {},
   "outputs": [],
   "source": [
    "## Make separate columns for year, month, and day to use in decision trees\n",
    "\n",
    "borneo_rain_copy['date'] = pd.to_datetime(borneo_rain_copy['date'])\n",
    "borneo_rain_copy['year'] = borneo_rain_copy['date'].dt.year\n",
    "borneo_rain_copy['month'] = borneo_rain_copy['date'].dt.month\n",
    "borneo_rain_copy['day'] = borneo_rain_copy['date'].dt.day"
   ]
  },
  {
   "cell_type": "code",
   "execution_count": 10,
   "metadata": {},
   "outputs": [
    {
     "name": "stdout",
     "output_type": "stream",
     "text": [
      "<class 'pandas.core.frame.DataFrame'>\n",
      "RangeIndex: 6424 entries, 0 to 6423\n",
      "Data columns (total 12 columns):\n",
      " #   Column           Non-Null Count  Dtype         \n",
      "---  ------           --------------  -----         \n",
      " 0   date             6424 non-null   datetime64[ns]\n",
      " 1   year             6424 non-null   int64         \n",
      " 2   month            6424 non-null   int64         \n",
      " 3   month2           6424 non-null   object        \n",
      " 4   day              6424 non-null   int64         \n",
      " 5   total_rain_camp  6424 non-null   object        \n",
      " 6   total_rain_post  6424 non-null   object        \n",
      " 7   min_temp         6424 non-null   object        \n",
      " 8   max_temp         6424 non-null   object        \n",
      " 9   thunder          6424 non-null   object        \n",
      " 10  smoke            6424 non-null   object        \n",
      " 11  rain_tomorrow    6424 non-null   object        \n",
      "dtypes: datetime64[ns](1), int64(3), object(8)\n",
      "memory usage: 602.4+ KB\n"
     ]
    }
   ],
   "source": [
    "borneo_rain_copy.info()"
   ]
  },
  {
   "cell_type": "markdown",
   "metadata": {},
   "source": [
    "Go through each column and remove rows with 'no data' entries from the dataframe."
   ]
  },
  {
   "cell_type": "code",
   "execution_count": 11,
   "metadata": {},
   "outputs": [
    {
     "name": "stdout",
     "output_type": "stream",
     "text": [
      "<class 'pandas.core.frame.DataFrame'>\n",
      "Int64Index: 6400 entries, 0 to 6423\n",
      "Data columns (total 12 columns):\n",
      " #   Column           Non-Null Count  Dtype         \n",
      "---  ------           --------------  -----         \n",
      " 0   date             6400 non-null   datetime64[ns]\n",
      " 1   year             6400 non-null   int64         \n",
      " 2   month            6400 non-null   int64         \n",
      " 3   month2           6400 non-null   object        \n",
      " 4   day              6400 non-null   int64         \n",
      " 5   total_rain_camp  6400 non-null   object        \n",
      " 6   total_rain_post  6400 non-null   object        \n",
      " 7   min_temp         6400 non-null   object        \n",
      " 8   max_temp         6400 non-null   object        \n",
      " 9   thunder          6400 non-null   object        \n",
      " 10  smoke            6400 non-null   object        \n",
      " 11  rain_tomorrow    6400 non-null   object        \n",
      "dtypes: datetime64[ns](1), int64(3), object(8)\n",
      "memory usage: 650.0+ KB\n"
     ]
    }
   ],
   "source": [
    "df1 = borneo_rain_copy.drop(borneo_rain_copy.loc[borneo_rain_copy.total_rain_camp == 'no data'].index)\n",
    "\n",
    "df1.info()"
   ]
  },
  {
   "cell_type": "code",
   "execution_count": 12,
   "metadata": {},
   "outputs": [
    {
     "name": "stdout",
     "output_type": "stream",
     "text": [
      "<class 'pandas.core.frame.DataFrame'>\n",
      "Int64Index: 2696 entries, 3714 to 6423\n",
      "Data columns (total 12 columns):\n",
      " #   Column           Non-Null Count  Dtype         \n",
      "---  ------           --------------  -----         \n",
      " 0   date             2696 non-null   datetime64[ns]\n",
      " 1   year             2696 non-null   int64         \n",
      " 2   month            2696 non-null   int64         \n",
      " 3   month2           2696 non-null   object        \n",
      " 4   day              2696 non-null   int64         \n",
      " 5   total_rain_camp  2696 non-null   object        \n",
      " 6   total_rain_post  2696 non-null   object        \n",
      " 7   min_temp         2696 non-null   object        \n",
      " 8   max_temp         2696 non-null   object        \n",
      " 9   thunder          2696 non-null   object        \n",
      " 10  smoke            2696 non-null   object        \n",
      " 11  rain_tomorrow    2696 non-null   object        \n",
      "dtypes: datetime64[ns](1), int64(3), object(8)\n",
      "memory usage: 273.8+ KB\n"
     ]
    }
   ],
   "source": [
    "df2 = df1.drop(df1.loc[df1.total_rain_post == 'no data'].index)\n",
    "\n",
    "df2.info()"
   ]
  },
  {
   "cell_type": "code",
   "execution_count": 13,
   "metadata": {},
   "outputs": [
    {
     "name": "stdout",
     "output_type": "stream",
     "text": [
      "<class 'pandas.core.frame.DataFrame'>\n",
      "Int64Index: 2589 entries, 3714 to 6423\n",
      "Data columns (total 12 columns):\n",
      " #   Column           Non-Null Count  Dtype         \n",
      "---  ------           --------------  -----         \n",
      " 0   date             2589 non-null   datetime64[ns]\n",
      " 1   year             2589 non-null   int64         \n",
      " 2   month            2589 non-null   int64         \n",
      " 3   month2           2589 non-null   object        \n",
      " 4   day              2589 non-null   int64         \n",
      " 5   total_rain_camp  2589 non-null   object        \n",
      " 6   total_rain_post  2589 non-null   object        \n",
      " 7   min_temp         2589 non-null   object        \n",
      " 8   max_temp         2589 non-null   object        \n",
      " 9   thunder          2589 non-null   object        \n",
      " 10  smoke            2589 non-null   object        \n",
      " 11  rain_tomorrow    2589 non-null   object        \n",
      "dtypes: datetime64[ns](1), int64(3), object(8)\n",
      "memory usage: 262.9+ KB\n"
     ]
    }
   ],
   "source": [
    "df3 = df2.drop(df2.loc[df2.min_temp == 'no data'].index)\n",
    "\n",
    "df3.info()"
   ]
  },
  {
   "cell_type": "code",
   "execution_count": 14,
   "metadata": {},
   "outputs": [
    {
     "name": "stdout",
     "output_type": "stream",
     "text": [
      "<class 'pandas.core.frame.DataFrame'>\n",
      "Int64Index: 2587 entries, 3714 to 6423\n",
      "Data columns (total 12 columns):\n",
      " #   Column           Non-Null Count  Dtype         \n",
      "---  ------           --------------  -----         \n",
      " 0   date             2587 non-null   datetime64[ns]\n",
      " 1   year             2587 non-null   int64         \n",
      " 2   month            2587 non-null   int64         \n",
      " 3   month2           2587 non-null   object        \n",
      " 4   day              2587 non-null   int64         \n",
      " 5   total_rain_camp  2587 non-null   object        \n",
      " 6   total_rain_post  2587 non-null   object        \n",
      " 7   min_temp         2587 non-null   object        \n",
      " 8   max_temp         2587 non-null   object        \n",
      " 9   thunder          2587 non-null   object        \n",
      " 10  smoke            2587 non-null   object        \n",
      " 11  rain_tomorrow    2587 non-null   object        \n",
      "dtypes: datetime64[ns](1), int64(3), object(8)\n",
      "memory usage: 262.7+ KB\n"
     ]
    }
   ],
   "source": [
    "df4 = df3.drop(df3.loc[df3.max_temp == 'no data'].index)\n",
    "\n",
    "df4.info()"
   ]
  },
  {
   "cell_type": "code",
   "execution_count": 15,
   "metadata": {},
   "outputs": [
    {
     "name": "stdout",
     "output_type": "stream",
     "text": [
      "<class 'pandas.core.frame.DataFrame'>\n",
      "Int64Index: 2515 entries, 3714 to 6423\n",
      "Data columns (total 12 columns):\n",
      " #   Column           Non-Null Count  Dtype         \n",
      "---  ------           --------------  -----         \n",
      " 0   date             2515 non-null   datetime64[ns]\n",
      " 1   year             2515 non-null   int64         \n",
      " 2   month            2515 non-null   int64         \n",
      " 3   month2           2515 non-null   object        \n",
      " 4   day              2515 non-null   int64         \n",
      " 5   total_rain_camp  2515 non-null   object        \n",
      " 6   total_rain_post  2515 non-null   object        \n",
      " 7   min_temp         2515 non-null   object        \n",
      " 8   max_temp         2515 non-null   object        \n",
      " 9   thunder          2515 non-null   object        \n",
      " 10  smoke            2515 non-null   object        \n",
      " 11  rain_tomorrow    2515 non-null   object        \n",
      "dtypes: datetime64[ns](1), int64(3), object(8)\n",
      "memory usage: 255.4+ KB\n"
     ]
    }
   ],
   "source": [
    "df5 = df4.drop(df4.loc[df4.thunder == 'no data'].index)\n",
    "\n",
    "df5.info()"
   ]
  },
  {
   "cell_type": "code",
   "execution_count": 16,
   "metadata": {},
   "outputs": [
    {
     "name": "stdout",
     "output_type": "stream",
     "text": [
      "<class 'pandas.core.frame.DataFrame'>\n",
      "Int64Index: 2509 entries, 3714 to 6423\n",
      "Data columns (total 12 columns):\n",
      " #   Column           Non-Null Count  Dtype         \n",
      "---  ------           --------------  -----         \n",
      " 0   date             2509 non-null   datetime64[ns]\n",
      " 1   year             2509 non-null   int64         \n",
      " 2   month            2509 non-null   int64         \n",
      " 3   month2           2509 non-null   object        \n",
      " 4   day              2509 non-null   int64         \n",
      " 5   total_rain_camp  2509 non-null   object        \n",
      " 6   total_rain_post  2509 non-null   object        \n",
      " 7   min_temp         2509 non-null   object        \n",
      " 8   max_temp         2509 non-null   object        \n",
      " 9   thunder          2509 non-null   object        \n",
      " 10  smoke            2509 non-null   object        \n",
      " 11  rain_tomorrow    2509 non-null   object        \n",
      "dtypes: datetime64[ns](1), int64(3), object(8)\n",
      "memory usage: 254.8+ KB\n"
     ]
    }
   ],
   "source": [
    "df6 = df5.drop(df5.loc[df5.smoke == 'no data'].index)\n",
    "\n",
    "df6.info()"
   ]
  },
  {
   "cell_type": "code",
   "execution_count": 17,
   "metadata": {},
   "outputs": [
    {
     "name": "stdout",
     "output_type": "stream",
     "text": [
      "<class 'pandas.core.frame.DataFrame'>\n",
      "Int64Index: 2504 entries, 3714 to 6423\n",
      "Data columns (total 12 columns):\n",
      " #   Column           Non-Null Count  Dtype         \n",
      "---  ------           --------------  -----         \n",
      " 0   date             2504 non-null   datetime64[ns]\n",
      " 1   year             2504 non-null   int64         \n",
      " 2   month            2504 non-null   int64         \n",
      " 3   month2           2504 non-null   object        \n",
      " 4   day              2504 non-null   int64         \n",
      " 5   total_rain_camp  2504 non-null   object        \n",
      " 6   total_rain_post  2504 non-null   object        \n",
      " 7   min_temp         2504 non-null   object        \n",
      " 8   max_temp         2504 non-null   object        \n",
      " 9   thunder          2504 non-null   object        \n",
      " 10  smoke            2504 non-null   object        \n",
      " 11  rain_tomorrow    2504 non-null   object        \n",
      "dtypes: datetime64[ns](1), int64(3), object(8)\n",
      "memory usage: 254.3+ KB\n"
     ]
    }
   ],
   "source": [
    "borneo_full_clean = df6.drop(df6.loc[df6.rain_tomorrow == 'no data'].index)\n",
    "\n",
    "borneo_full_clean.info()"
   ]
  },
  {
   "cell_type": "code",
   "execution_count": 18,
   "metadata": {},
   "outputs": [],
   "source": [
    "## Convert total rain and temperature columns to floats\n",
    "\n",
    "borneo_full_clean['total_rain_camp'] = pd.to_numeric(borneo_full_clean['total_rain_camp'], downcast=\"float\")\n",
    "\n",
    "borneo_full_clean['total_rain_post'] = pd.to_numeric(borneo_full_clean['total_rain_post'], downcast=\"float\")\n",
    "\n",
    "borneo_full_clean['min_temp'] = pd.to_numeric(borneo_full_clean['min_temp'], downcast=\"float\")\n",
    "\n",
    "borneo_full_clean['max_temp'] = pd.to_numeric(borneo_full_clean['max_temp'], downcast=\"float\")"
   ]
  },
  {
   "cell_type": "code",
   "execution_count": 19,
   "metadata": {},
   "outputs": [
    {
     "name": "stderr",
     "output_type": "stream",
     "text": [
      "C:\\Users\\shred\\anaconda3\\lib\\site-packages\\pandas\\core\\indexing.py:1637: SettingWithCopyWarning: \n",
      "A value is trying to be set on a copy of a slice from a DataFrame\n",
      "\n",
      "See the caveats in the documentation: https://pandas.pydata.org/pandas-docs/stable/user_guide/indexing.html#returning-a-view-versus-a-copy\n",
      "  self._setitem_single_block(indexer, value, name)\n"
     ]
    }
   ],
   "source": [
    "## One hot encode thunder and smoke\n",
    "\n",
    "borneo_full_clean['Thunder'] = 0\n",
    "\n",
    "borneo_full_clean.Thunder.loc[borneo_full_clean['thunder'] == 'present'] = 1 \n",
    "\n",
    "borneo_full_clean['Smoke'] = 0\n",
    "\n",
    "borneo_full_clean.Smoke.loc[borneo_full_clean['smoke'] == 'present'] = 1"
   ]
  },
  {
   "cell_type": "code",
   "execution_count": 20,
   "metadata": {
    "scrolled": true
   },
   "outputs": [
    {
     "data": {
      "text/plain": [
       "Index(['date', 'year', 'month', 'month2', 'day', 'total_rain_camp',\n",
       "       'total_rain_post', 'min_temp', 'max_temp', 'thunder', 'smoke',\n",
       "       'rain_tomorrow', 'Thunder', 'Smoke'],\n",
       "      dtype='object')"
      ]
     },
     "execution_count": 20,
     "metadata": {},
     "output_type": "execute_result"
    }
   ],
   "source": [
    "borneo_full_clean.columns"
   ]
  },
  {
   "cell_type": "markdown",
   "metadata": {},
   "source": [
    "# Run random forest classifier:\n",
    "\n",
    "Make train test split and stratify. \n",
    "\n",
    "Run random forest under stratified cross validation, taking accuracy score.\n",
    "\n",
    "Predict with random forest classifier which has max depth corresponding to highest accuracy."
   ]
  },
  {
   "cell_type": "code",
   "execution_count": 21,
   "metadata": {},
   "outputs": [],
   "source": [
    "X = borneo_full_clean[['year', 'month','day', 'total_rain_camp',\n",
    "       'total_rain_post', 'min_temp', 'max_temp','Thunder', 'Smoke']]\n",
    "\n",
    "y = borneo_full_clean['rain_tomorrow']"
   ]
  },
  {
   "cell_type": "code",
   "execution_count": 22,
   "metadata": {},
   "outputs": [],
   "source": [
    "## Import packages for cross validation\n",
    "\n",
    "from sklearn.model_selection import train_test_split, StratifiedKFold\n",
    "from sklearn.base import clone\n",
    "## Accuracy\n",
    "from sklearn.metrics import accuracy_score\n",
    "## Precision\n",
    "from sklearn.metrics import precision_score\n",
    "## Recall\n",
    "from sklearn.metrics import recall_score"
   ]
  },
  {
   "cell_type": "code",
   "execution_count": 23,
   "metadata": {},
   "outputs": [],
   "source": [
    "## Make train-test split\n",
    "\n",
    "X_train,X_test,y_train,y_test = train_test_split(X,y,\n",
    "                                                 test_size = .25,\n",
    "                                                 random_state = 614,\n",
    "                                                 shuffle = True,\n",
    "                                                 stratify = y)"
   ]
  },
  {
   "cell_type": "code",
   "execution_count": 24,
   "metadata": {},
   "outputs": [],
   "source": [
    "from sklearn.ensemble import RandomForestClassifier"
   ]
  },
  {
   "cell_type": "code",
   "execution_count": 25,
   "metadata": {},
   "outputs": [],
   "source": [
    "## Perform cross-validation to find the optimal\n",
    "## max_depth for one of the three performance measures\n",
    "\n",
    "\n",
    "## Sample Answer\n",
    "kfold = StratifiedKFold(n_splits=5,shuffle = True,random_state=440)\n",
    "\n",
    "X_train_copy = X_train.copy()\n",
    "\n",
    "# n will be the maximum max_depth I consider\n",
    "n = 20\n",
    "\n",
    "accs = np.zeros((5,n))\n",
    "\n",
    "\n",
    "for j in range(1,n+1):\n",
    "    rf = RandomForestClassifier(n_estimators = 500,max_depth=j, random_state = 440)\n",
    "    \n",
    "    i = 0\n",
    "    for train_index,test_index in kfold.split(X_train_copy,y_train):\n",
    "        X_train_train, X_train_test = X_train_copy.iloc[train_index],X_train_copy.iloc[test_index]\n",
    "        y_train_train, y_train_test = y_train.iloc[train_index],y_train.iloc[test_index]\n",
    "\n",
    "        rf_clone = clone(rf)\n",
    "        rf_clone.fit(X_train_train,y_train_train)\n",
    "        \n",
    "        y_predict = rf_clone.predict(X_train_test)\n",
    "        accs[i,j-1] = accuracy_score(y_train_test,y_predict)\n",
    "        i = i + 1"
   ]
  },
  {
   "cell_type": "code",
   "execution_count": 28,
   "metadata": {
    "scrolled": false
   },
   "outputs": [
    {
     "data": {
      "image/png": "[encoded data removed]",
      "text/plain": [
       "<Figure size 504x504 with 1 Axes>"
      ]
     },
     "metadata": {},
     "output_type": "display_data"
    }
   ],
   "source": [
    "plt.figure(figsize=(7,7))\n",
    "\n",
    "plt.plot(range(1,n+1), np.mean(accs,axis=0),'b-o', label=\"Accuracy\")\n",
    "\n",
    "plt.ylabel(\"Mean CV Performance Score\",fontsize=16)\n",
    "plt.xlabel(\"Max Depth\",fontsize=16)\n",
    "\n",
    "plt.legend(fontsize=16)\n",
    "\n",
    "plt.show()"
   ]
  },
  {
   "cell_type": "code",
   "execution_count": 29,
   "metadata": {},
   "outputs": [],
   "source": [
    "from sklearn.metrics import confusion_matrix"
   ]
  },
  {
   "cell_type": "code",
   "execution_count": 30,
   "metadata": {},
   "outputs": [
    {
     "data": {
      "text/plain": [
       "RandomForestClassifier(max_depth=5, n_estimators=500, random_state=440)"
      ]
     },
     "execution_count": 30,
     "metadata": {},
     "output_type": "execute_result"
    }
   ],
   "source": [
    "#Choosing a final model with max depth 5\n",
    "rff = RandomForestClassifier(n_estimators = 500,max_depth=5, random_state = 440)\n",
    "\n",
    "rff_clone = clone(rff)\n",
    "rff_clone.fit(X_train,y_train)"
   ]
  },
  {
   "cell_type": "code",
   "execution_count": 31,
   "metadata": {},
   "outputs": [
    {
     "name": "stdout",
     "output_type": "stream",
     "text": [
      "The accuracy score is 0.7028753993610224\n"
     ]
    }
   ],
   "source": [
    "y_predict = rff_clone.predict(X_test)\n",
    "\n",
    "print('The accuracy score is', accuracy_score(y_test,y_predict))"
   ]
  },
  {
   "cell_type": "code",
   "execution_count": 32,
   "metadata": {},
   "outputs": [
    {
     "data": {
      "text/plain": [
       "array([[107, 137],\n",
       "       [ 49, 333]], dtype=int64)"
      ]
     },
     "execution_count": 32,
     "metadata": {},
     "output_type": "execute_result"
    }
   ],
   "source": [
    "confusion_matrix(y_test, y_predict)"
   ]
  },
  {
   "cell_type": "code",
   "execution_count": 33,
   "metadata": {},
   "outputs": [
    {
     "data": {
      "text/html": [
       "<div>\n",
       "<style scoped>\n",
       "    .dataframe tbody tr th:only-of-type {\n",
       "        vertical-align: middle;\n",
       "    }\n",
       "\n",
       "    .dataframe tbody tr th {\n",
       "        vertical-align: top;\n",
       "    }\n",
       "\n",
       "    .dataframe thead th {\n",
       "        text-align: right;\n",
       "    }\n",
       "</style>\n",
       "<table border=\"1\" class=\"dataframe\">\n",
       "  <thead>\n",
       "    <tr style=\"text-align: right;\">\n",
       "      <th></th>\n",
       "      <th>feature</th>\n",
       "      <th>importance_score</th>\n",
       "    </tr>\n",
       "  </thead>\n",
       "  <tbody>\n",
       "    <tr>\n",
       "      <th>4</th>\n",
       "      <td>total_rain_post</td>\n",
       "      <td>0.2763</td>\n",
       "    </tr>\n",
       "    <tr>\n",
       "      <th>3</th>\n",
       "      <td>total_rain_camp</td>\n",
       "      <td>0.2111</td>\n",
       "    </tr>\n",
       "    <tr>\n",
       "      <th>1</th>\n",
       "      <td>month</td>\n",
       "      <td>0.1143</td>\n",
       "    </tr>\n",
       "    <tr>\n",
       "      <th>5</th>\n",
       "      <td>min_temp</td>\n",
       "      <td>0.1085</td>\n",
       "    </tr>\n",
       "    <tr>\n",
       "      <th>8</th>\n",
       "      <td>Smoke</td>\n",
       "      <td>0.0743</td>\n",
       "    </tr>\n",
       "    <tr>\n",
       "      <th>7</th>\n",
       "      <td>Thunder</td>\n",
       "      <td>0.0742</td>\n",
       "    </tr>\n",
       "    <tr>\n",
       "      <th>2</th>\n",
       "      <td>day</td>\n",
       "      <td>0.0603</td>\n",
       "    </tr>\n",
       "    <tr>\n",
       "      <th>0</th>\n",
       "      <td>year</td>\n",
       "      <td>0.0445</td>\n",
       "    </tr>\n",
       "    <tr>\n",
       "      <th>6</th>\n",
       "      <td>max_temp</td>\n",
       "      <td>0.0364</td>\n",
       "    </tr>\n",
       "  </tbody>\n",
       "</table>\n",
       "</div>"
      ],
      "text/plain": [
       "           feature  importance_score\n",
       "4  total_rain_post            0.2763\n",
       "3  total_rain_camp            0.2111\n",
       "1            month            0.1143\n",
       "5         min_temp            0.1085\n",
       "8            Smoke            0.0743\n",
       "7          Thunder            0.0742\n",
       "2              day            0.0603\n",
       "0             year            0.0445\n",
       "6         max_temp            0.0364"
      ]
     },
     "execution_count": 33,
     "metadata": {},
     "output_type": "execute_result"
    }
   ],
   "source": [
    "names = []\n",
    "scores = []\n",
    "for name, score in zip(X_train_copy.columns,rff_clone.feature_importances_):\n",
    "    names.append(name)\n",
    "    scores.append(np.round(score,4))\n",
    "    \n",
    "score_df = pd.DataFrame({'feature':names,'importance_score':scores})\n",
    "\n",
    "score_df.sort_values('importance_score',ascending=False)"
   ]
  },
  {
   "cell_type": "markdown",
   "metadata": {},
   "source": []
  }
 ],
 "metadata": {
  "kernelspec": {
   "display_name": "Python 3",
   "language": "python",
   "name": "python3"
  },
  "language_info": {
   "codemirror_mode": {
    "name": "ipython",
    "version": 3
   },
   "file_extension": ".py",
   "mimetype": "text/x-python",
   "name": "python",
   "nbconvert_exporter": "python",
   "pygments_lexer": "ipython3",
   "version": "3.8.5"
  }
 },
 "nbformat": 4,
 "nbformat_minor": 5
}
